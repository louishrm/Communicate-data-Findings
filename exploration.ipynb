{
 "cells": [
  {
   "cell_type": "markdown",
   "metadata": {},
   "source": [
    "# Communicate Data Findings \n",
    "\n",
    "* Gather\n",
    "* Assess\n",
    "* Clean\n",
    "* Univarite exploration\n",
    "* Bivariate exploration\n",
    "* Multivariate exploration\n",
    "\n",
    "## Gather"
   ]
  },
  {
   "cell_type": "code",
   "execution_count": 1,
   "metadata": {},
   "outputs": [],
   "source": [
    "#Imports\n",
    "import pandas as pd\n",
    "import numpy as np\n",
    "import math as m\n",
    "import matplotlib.pyplot as plt\n",
    "import seaborn as sns"
   ]
  },
  {
   "cell_type": "code",
   "execution_count": 2,
   "metadata": {},
   "outputs": [
    {
     "data": {
      "text/html": [
       "<div>\n",
       "<style scoped>\n",
       "    .dataframe tbody tr th:only-of-type {\n",
       "        vertical-align: middle;\n",
       "    }\n",
       "\n",
       "    .dataframe tbody tr th {\n",
       "        vertical-align: top;\n",
       "    }\n",
       "\n",
       "    .dataframe thead th {\n",
       "        text-align: right;\n",
       "    }\n",
       "</style>\n",
       "<table border=\"1\" class=\"dataframe\">\n",
       "  <thead>\n",
       "    <tr style=\"text-align: right;\">\n",
       "      <th></th>\n",
       "      <th>bike_id</th>\n",
       "      <th>end_station_id</th>\n",
       "      <th>end_station_latitude</th>\n",
       "      <th>end_station_longitude</th>\n",
       "      <th>start_station_id</th>\n",
       "      <th>start_station_latitude</th>\n",
       "      <th>start_station_longitude</th>\n",
       "      <th>start_time</th>\n",
       "      <th>low_income_trip</th>\n",
       "      <th>subscriber</th>\n",
       "      <th>gender</th>\n",
       "      <th>duration_min</th>\n",
       "      <th>user_age</th>\n",
       "      <th>year</th>\n",
       "      <th>month</th>\n",
       "      <th>week</th>\n",
       "      <th>day</th>\n",
       "      <th>weekday</th>\n",
       "      <th>hour</th>\n",
       "    </tr>\n",
       "  </thead>\n",
       "  <tbody>\n",
       "    <tr>\n",
       "      <th>0</th>\n",
       "      <td>96</td>\n",
       "      <td>43</td>\n",
       "      <td>37.778768</td>\n",
       "      <td>-122.415929</td>\n",
       "      <td>74</td>\n",
       "      <td>37.776435</td>\n",
       "      <td>-122.426244</td>\n",
       "      <td>2017-12-31 16:57:39.654</td>\n",
       "      <td>0</td>\n",
       "      <td>0</td>\n",
       "      <td>1</td>\n",
       "      <td>1335.2</td>\n",
       "      <td>31</td>\n",
       "      <td>2017</td>\n",
       "      <td>12</td>\n",
       "      <td>52</td>\n",
       "      <td>31</td>\n",
       "      <td>6</td>\n",
       "      <td>16</td>\n",
       "    </tr>\n",
       "    <tr>\n",
       "      <th>1</th>\n",
       "      <td>88</td>\n",
       "      <td>96</td>\n",
       "      <td>37.766210</td>\n",
       "      <td>-122.426614</td>\n",
       "      <td>284</td>\n",
       "      <td>37.784872</td>\n",
       "      <td>-122.400876</td>\n",
       "      <td>2017-12-31 15:56:34.842</td>\n",
       "      <td>0</td>\n",
       "      <td>0</td>\n",
       "      <td>0</td>\n",
       "      <td>1313.3</td>\n",
       "      <td>53</td>\n",
       "      <td>2017</td>\n",
       "      <td>12</td>\n",
       "      <td>52</td>\n",
       "      <td>31</td>\n",
       "      <td>6</td>\n",
       "      <td>15</td>\n",
       "    </tr>\n",
       "    <tr>\n",
       "      <th>2</th>\n",
       "      <td>3167</td>\n",
       "      <td>247</td>\n",
       "      <td>37.867789</td>\n",
       "      <td>-122.265896</td>\n",
       "      <td>239</td>\n",
       "      <td>37.868813</td>\n",
       "      <td>-122.258764</td>\n",
       "      <td>2017-12-31 14:23:14.001</td>\n",
       "      <td>0</td>\n",
       "      <td>1</td>\n",
       "      <td>0</td>\n",
       "      <td>726.7</td>\n",
       "      <td>21</td>\n",
       "      <td>2017</td>\n",
       "      <td>12</td>\n",
       "      <td>52</td>\n",
       "      <td>31</td>\n",
       "      <td>6</td>\n",
       "      <td>14</td>\n",
       "    </tr>\n",
       "    <tr>\n",
       "      <th>3</th>\n",
       "      <td>3539</td>\n",
       "      <td>259</td>\n",
       "      <td>37.866249</td>\n",
       "      <td>-122.299371</td>\n",
       "      <td>259</td>\n",
       "      <td>37.866249</td>\n",
       "      <td>-122.299371</td>\n",
       "      <td>2017-12-31 23:49:28.422</td>\n",
       "      <td>0</td>\n",
       "      <td>0</td>\n",
       "      <td>0</td>\n",
       "      <td>75.1</td>\n",
       "      <td>27</td>\n",
       "      <td>2017</td>\n",
       "      <td>12</td>\n",
       "      <td>52</td>\n",
       "      <td>31</td>\n",
       "      <td>6</td>\n",
       "      <td>23</td>\n",
       "    </tr>\n",
       "    <tr>\n",
       "      <th>4</th>\n",
       "      <td>2311</td>\n",
       "      <td>24</td>\n",
       "      <td>37.789677</td>\n",
       "      <td>-122.390428</td>\n",
       "      <td>67</td>\n",
       "      <td>37.776639</td>\n",
       "      <td>-122.395526</td>\n",
       "      <td>2017-12-31 23:52:55.581</td>\n",
       "      <td>0</td>\n",
       "      <td>1</td>\n",
       "      <td>1</td>\n",
       "      <td>36.4</td>\n",
       "      <td>28</td>\n",
       "      <td>2017</td>\n",
       "      <td>12</td>\n",
       "      <td>52</td>\n",
       "      <td>31</td>\n",
       "      <td>6</td>\n",
       "      <td>23</td>\n",
       "    </tr>\n",
       "  </tbody>\n",
       "</table>\n",
       "</div>"
      ],
      "text/plain": [
       "   bike_id  end_station_id  end_station_latitude  end_station_longitude  \\\n",
       "0       96              43             37.778768            -122.415929   \n",
       "1       88              96             37.766210            -122.426614   \n",
       "2     3167             247             37.867789            -122.265896   \n",
       "3     3539             259             37.866249            -122.299371   \n",
       "4     2311              24             37.789677            -122.390428   \n",
       "\n",
       "   start_station_id  start_station_latitude  start_station_longitude  \\\n",
       "0                74               37.776435              -122.426244   \n",
       "1               284               37.784872              -122.400876   \n",
       "2               239               37.868813              -122.258764   \n",
       "3               259               37.866249              -122.299371   \n",
       "4                67               37.776639              -122.395526   \n",
       "\n",
       "                start_time  low_income_trip  subscriber  gender  duration_min  \\\n",
       "0  2017-12-31 16:57:39.654                0           0       1        1335.2   \n",
       "1  2017-12-31 15:56:34.842                0           0       0        1313.3   \n",
       "2  2017-12-31 14:23:14.001                0           1       0         726.7   \n",
       "3  2017-12-31 23:49:28.422                0           0       0          75.1   \n",
       "4  2017-12-31 23:52:55.581                0           1       1          36.4   \n",
       "\n",
       "   user_age  year  month  week  day  weekday  hour  \n",
       "0        31  2017     12    52   31        6    16  \n",
       "1        53  2017     12    52   31        6    15  \n",
       "2        21  2017     12    52   31        6    14  \n",
       "3        27  2017     12    52   31        6    23  \n",
       "4        28  2017     12    52   31        6    23  "
      ]
     },
     "execution_count": 2,
     "metadata": {},
     "output_type": "execute_result"
    }
   ],
   "source": [
    "df = pd.read_csv('fordgobike.csv')\n",
    "df.head()"
   ]
  },
  {
   "cell_type": "code",
   "execution_count": 3,
   "metadata": {},
   "outputs": [
    {
     "data": {
      "text/html": [
       "<div>\n",
       "<style scoped>\n",
       "    .dataframe tbody tr th:only-of-type {\n",
       "        vertical-align: middle;\n",
       "    }\n",
       "\n",
       "    .dataframe tbody tr th {\n",
       "        vertical-align: top;\n",
       "    }\n",
       "\n",
       "    .dataframe thead th {\n",
       "        text-align: right;\n",
       "    }\n",
       "</style>\n",
       "<table border=\"1\" class=\"dataframe\">\n",
       "  <thead>\n",
       "    <tr style=\"text-align: right;\">\n",
       "      <th></th>\n",
       "      <th>stationName</th>\n",
       "      <th>stationId</th>\n",
       "    </tr>\n",
       "  </thead>\n",
       "  <tbody>\n",
       "    <tr>\n",
       "      <th>0</th>\n",
       "      <td>San Francisco Public Library (Grove St at Hyde...</td>\n",
       "      <td>43.0</td>\n",
       "    </tr>\n",
       "    <tr>\n",
       "      <th>1</th>\n",
       "      <td>Dolores St at 15th St</td>\n",
       "      <td>96.0</td>\n",
       "    </tr>\n",
       "    <tr>\n",
       "      <th>2</th>\n",
       "      <td>Downtown Berkeley BART</td>\n",
       "      <td>245.0</td>\n",
       "    </tr>\n",
       "    <tr>\n",
       "      <th>3</th>\n",
       "      <td>Powell St BART Station (Market St at 5th St)</td>\n",
       "      <td>5.0</td>\n",
       "    </tr>\n",
       "    <tr>\n",
       "      <th>4</th>\n",
       "      <td>Fulton St at Bancroft Way</td>\n",
       "      <td>247.0</td>\n",
       "    </tr>\n",
       "  </tbody>\n",
       "</table>\n",
       "</div>"
      ],
      "text/plain": [
       "                                         stationName  stationId\n",
       "0  San Francisco Public Library (Grove St at Hyde...       43.0\n",
       "1                              Dolores St at 15th St       96.0\n",
       "2                             Downtown Berkeley BART      245.0\n",
       "3       Powell St BART Station (Market St at 5th St)        5.0\n",
       "4                          Fulton St at Bancroft Way      247.0"
      ]
     },
     "execution_count": 3,
     "metadata": {},
     "output_type": "execute_result"
    }
   ],
   "source": [
    "stations_df = pd.read_csv('stationData.csv')\n",
    "stations_df.head()"
   ]
  },
  {
   "cell_type": "markdown",
   "metadata": {},
   "source": [
    "## Assess "
   ]
  },
  {
   "cell_type": "code",
   "execution_count": 4,
   "metadata": {},
   "outputs": [
    {
     "data": {
      "text/plain": [
       "2018    1741556\n",
       "2019     829277\n",
       "2017     453159\n",
       "Name: year, dtype: int64"
      ]
     },
     "execution_count": 4,
     "metadata": {},
     "output_type": "execute_result"
    }
   ],
   "source": [
    "df.year.value_counts()"
   ]
  },
  {
   "cell_type": "code",
   "execution_count": 5,
   "metadata": {},
   "outputs": [
    {
     "data": {
      "text/plain": [
       "0"
      ]
     },
     "execution_count": 5,
     "metadata": {},
     "output_type": "execute_result"
    }
   ],
   "source": [
    "sum(df.duplicated())"
   ]
  },
  {
   "cell_type": "code",
   "execution_count": 6,
   "metadata": {},
   "outputs": [
    {
     "data": {
      "text/plain": [
       "bike_id                    False\n",
       "end_station_id             False\n",
       "end_station_latitude       False\n",
       "end_station_longitude      False\n",
       "start_station_id           False\n",
       "start_station_latitude     False\n",
       "start_station_longitude    False\n",
       "start_time                 False\n",
       "low_income_trip            False\n",
       "subscriber                 False\n",
       "gender                     False\n",
       "duration_min               False\n",
       "user_age                   False\n",
       "year                       False\n",
       "month                      False\n",
       "week                       False\n",
       "day                        False\n",
       "weekday                    False\n",
       "hour                       False\n",
       "dtype: bool"
      ]
     },
     "execution_count": 6,
     "metadata": {},
     "output_type": "execute_result"
    }
   ],
   "source": [
    "df.isnull().any()"
   ]
  },
  {
   "cell_type": "code",
   "execution_count": 7,
   "metadata": {},
   "outputs": [
    {
     "data": {
      "text/html": [
       "<div>\n",
       "<style scoped>\n",
       "    .dataframe tbody tr th:only-of-type {\n",
       "        vertical-align: middle;\n",
       "    }\n",
       "\n",
       "    .dataframe tbody tr th {\n",
       "        vertical-align: top;\n",
       "    }\n",
       "\n",
       "    .dataframe thead th {\n",
       "        text-align: right;\n",
       "    }\n",
       "</style>\n",
       "<table border=\"1\" class=\"dataframe\">\n",
       "  <thead>\n",
       "    <tr style=\"text-align: right;\">\n",
       "      <th></th>\n",
       "      <th>bike_id</th>\n",
       "      <th>end_station_id</th>\n",
       "      <th>end_station_latitude</th>\n",
       "      <th>end_station_longitude</th>\n",
       "      <th>start_station_id</th>\n",
       "      <th>start_station_latitude</th>\n",
       "      <th>start_station_longitude</th>\n",
       "      <th>start_time</th>\n",
       "      <th>low_income_trip</th>\n",
       "      <th>subscriber</th>\n",
       "      <th>gender</th>\n",
       "      <th>duration_min</th>\n",
       "      <th>user_age</th>\n",
       "      <th>year</th>\n",
       "      <th>month</th>\n",
       "      <th>week</th>\n",
       "      <th>day</th>\n",
       "      <th>weekday</th>\n",
       "      <th>hour</th>\n",
       "    </tr>\n",
       "  </thead>\n",
       "  <tbody>\n",
       "    <tr>\n",
       "      <th>0</th>\n",
       "      <td>96</td>\n",
       "      <td>43</td>\n",
       "      <td>37.778768</td>\n",
       "      <td>-122.415929</td>\n",
       "      <td>74</td>\n",
       "      <td>37.776435</td>\n",
       "      <td>-122.426244</td>\n",
       "      <td>2017-12-31 16:57:39.654</td>\n",
       "      <td>0</td>\n",
       "      <td>0</td>\n",
       "      <td>1</td>\n",
       "      <td>1335.2</td>\n",
       "      <td>31</td>\n",
       "      <td>2017</td>\n",
       "      <td>12</td>\n",
       "      <td>52</td>\n",
       "      <td>31</td>\n",
       "      <td>6</td>\n",
       "      <td>16</td>\n",
       "    </tr>\n",
       "    <tr>\n",
       "      <th>1</th>\n",
       "      <td>88</td>\n",
       "      <td>96</td>\n",
       "      <td>37.766210</td>\n",
       "      <td>-122.426614</td>\n",
       "      <td>284</td>\n",
       "      <td>37.784872</td>\n",
       "      <td>-122.400876</td>\n",
       "      <td>2017-12-31 15:56:34.842</td>\n",
       "      <td>0</td>\n",
       "      <td>0</td>\n",
       "      <td>0</td>\n",
       "      <td>1313.3</td>\n",
       "      <td>53</td>\n",
       "      <td>2017</td>\n",
       "      <td>12</td>\n",
       "      <td>52</td>\n",
       "      <td>31</td>\n",
       "      <td>6</td>\n",
       "      <td>15</td>\n",
       "    </tr>\n",
       "    <tr>\n",
       "      <th>2</th>\n",
       "      <td>3167</td>\n",
       "      <td>247</td>\n",
       "      <td>37.867789</td>\n",
       "      <td>-122.265896</td>\n",
       "      <td>239</td>\n",
       "      <td>37.868813</td>\n",
       "      <td>-122.258764</td>\n",
       "      <td>2017-12-31 14:23:14.001</td>\n",
       "      <td>0</td>\n",
       "      <td>1</td>\n",
       "      <td>0</td>\n",
       "      <td>726.7</td>\n",
       "      <td>21</td>\n",
       "      <td>2017</td>\n",
       "      <td>12</td>\n",
       "      <td>52</td>\n",
       "      <td>31</td>\n",
       "      <td>6</td>\n",
       "      <td>14</td>\n",
       "    </tr>\n",
       "    <tr>\n",
       "      <th>3</th>\n",
       "      <td>3539</td>\n",
       "      <td>259</td>\n",
       "      <td>37.866249</td>\n",
       "      <td>-122.299371</td>\n",
       "      <td>259</td>\n",
       "      <td>37.866249</td>\n",
       "      <td>-122.299371</td>\n",
       "      <td>2017-12-31 23:49:28.422</td>\n",
       "      <td>0</td>\n",
       "      <td>0</td>\n",
       "      <td>0</td>\n",
       "      <td>75.1</td>\n",
       "      <td>27</td>\n",
       "      <td>2017</td>\n",
       "      <td>12</td>\n",
       "      <td>52</td>\n",
       "      <td>31</td>\n",
       "      <td>6</td>\n",
       "      <td>23</td>\n",
       "    </tr>\n",
       "    <tr>\n",
       "      <th>4</th>\n",
       "      <td>2311</td>\n",
       "      <td>24</td>\n",
       "      <td>37.789677</td>\n",
       "      <td>-122.390428</td>\n",
       "      <td>67</td>\n",
       "      <td>37.776639</td>\n",
       "      <td>-122.395526</td>\n",
       "      <td>2017-12-31 23:52:55.581</td>\n",
       "      <td>0</td>\n",
       "      <td>1</td>\n",
       "      <td>1</td>\n",
       "      <td>36.4</td>\n",
       "      <td>28</td>\n",
       "      <td>2017</td>\n",
       "      <td>12</td>\n",
       "      <td>52</td>\n",
       "      <td>31</td>\n",
       "      <td>6</td>\n",
       "      <td>23</td>\n",
       "    </tr>\n",
       "    <tr>\n",
       "      <th>...</th>\n",
       "      <td>...</td>\n",
       "      <td>...</td>\n",
       "      <td>...</td>\n",
       "      <td>...</td>\n",
       "      <td>...</td>\n",
       "      <td>...</td>\n",
       "      <td>...</td>\n",
       "      <td>...</td>\n",
       "      <td>...</td>\n",
       "      <td>...</td>\n",
       "      <td>...</td>\n",
       "      <td>...</td>\n",
       "      <td>...</td>\n",
       "      <td>...</td>\n",
       "      <td>...</td>\n",
       "      <td>...</td>\n",
       "      <td>...</td>\n",
       "      <td>...</td>\n",
       "      <td>...</td>\n",
       "    </tr>\n",
       "    <tr>\n",
       "      <th>3023987</th>\n",
       "      <td>6430</td>\n",
       "      <td>132</td>\n",
       "      <td>37.751819</td>\n",
       "      <td>-122.426614</td>\n",
       "      <td>133</td>\n",
       "      <td>37.755213</td>\n",
       "      <td>-122.420975</td>\n",
       "      <td>2019-04-01 00:09:17.566</td>\n",
       "      <td>0</td>\n",
       "      <td>1</td>\n",
       "      <td>1</td>\n",
       "      <td>3.1</td>\n",
       "      <td>43</td>\n",
       "      <td>2019</td>\n",
       "      <td>4</td>\n",
       "      <td>14</td>\n",
       "      <td>1</td>\n",
       "      <td>0</td>\n",
       "      <td>0</td>\n",
       "    </tr>\n",
       "    <tr>\n",
       "      <th>3023988</th>\n",
       "      <td>4972</td>\n",
       "      <td>77</td>\n",
       "      <td>37.773507</td>\n",
       "      <td>-122.416040</td>\n",
       "      <td>78</td>\n",
       "      <td>37.773717</td>\n",
       "      <td>-122.411647</td>\n",
       "      <td>2019-04-01 00:03:02.573</td>\n",
       "      <td>1</td>\n",
       "      <td>1</td>\n",
       "      <td>1</td>\n",
       "      <td>9.0</td>\n",
       "      <td>38</td>\n",
       "      <td>2019</td>\n",
       "      <td>4</td>\n",
       "      <td>14</td>\n",
       "      <td>1</td>\n",
       "      <td>0</td>\n",
       "      <td>0</td>\n",
       "    </tr>\n",
       "    <tr>\n",
       "      <th>3023989</th>\n",
       "      <td>3415</td>\n",
       "      <td>269</td>\n",
       "      <td>37.862320</td>\n",
       "      <td>-122.258801</td>\n",
       "      <td>243</td>\n",
       "      <td>37.869360</td>\n",
       "      <td>-122.254337</td>\n",
       "      <td>2019-04-01 00:06:04.237</td>\n",
       "      <td>1</td>\n",
       "      <td>1</td>\n",
       "      <td>1</td>\n",
       "      <td>4.9</td>\n",
       "      <td>22</td>\n",
       "      <td>2019</td>\n",
       "      <td>4</td>\n",
       "      <td>14</td>\n",
       "      <td>1</td>\n",
       "      <td>0</td>\n",
       "      <td>0</td>\n",
       "    </tr>\n",
       "    <tr>\n",
       "      <th>3023990</th>\n",
       "      <td>5018</td>\n",
       "      <td>43</td>\n",
       "      <td>37.778768</td>\n",
       "      <td>-122.415929</td>\n",
       "      <td>370</td>\n",
       "      <td>37.787327</td>\n",
       "      <td>-122.413278</td>\n",
       "      <td>2019-04-01 00:01:38.411</td>\n",
       "      <td>1</td>\n",
       "      <td>1</td>\n",
       "      <td>0</td>\n",
       "      <td>7.8</td>\n",
       "      <td>23</td>\n",
       "      <td>2019</td>\n",
       "      <td>4</td>\n",
       "      <td>14</td>\n",
       "      <td>1</td>\n",
       "      <td>0</td>\n",
       "      <td>0</td>\n",
       "    </tr>\n",
       "    <tr>\n",
       "      <th>3023991</th>\n",
       "      <td>5956</td>\n",
       "      <td>371</td>\n",
       "      <td>37.802746</td>\n",
       "      <td>-122.413579</td>\n",
       "      <td>14</td>\n",
       "      <td>37.795001</td>\n",
       "      <td>-122.399970</td>\n",
       "      <td>2019-04-01 00:00:28.729</td>\n",
       "      <td>0</td>\n",
       "      <td>1</td>\n",
       "      <td>1</td>\n",
       "      <td>5.9</td>\n",
       "      <td>49</td>\n",
       "      <td>2019</td>\n",
       "      <td>4</td>\n",
       "      <td>14</td>\n",
       "      <td>1</td>\n",
       "      <td>0</td>\n",
       "      <td>0</td>\n",
       "    </tr>\n",
       "  </tbody>\n",
       "</table>\n",
       "<p>3023992 rows × 19 columns</p>\n",
       "</div>"
      ],
      "text/plain": [
       "         bike_id  end_station_id  end_station_latitude  end_station_longitude  \\\n",
       "0             96              43             37.778768            -122.415929   \n",
       "1             88              96             37.766210            -122.426614   \n",
       "2           3167             247             37.867789            -122.265896   \n",
       "3           3539             259             37.866249            -122.299371   \n",
       "4           2311              24             37.789677            -122.390428   \n",
       "...          ...             ...                   ...                    ...   \n",
       "3023987     6430             132             37.751819            -122.426614   \n",
       "3023988     4972              77             37.773507            -122.416040   \n",
       "3023989     3415             269             37.862320            -122.258801   \n",
       "3023990     5018              43             37.778768            -122.415929   \n",
       "3023991     5956             371             37.802746            -122.413579   \n",
       "\n",
       "         start_station_id  start_station_latitude  start_station_longitude  \\\n",
       "0                      74               37.776435              -122.426244   \n",
       "1                     284               37.784872              -122.400876   \n",
       "2                     239               37.868813              -122.258764   \n",
       "3                     259               37.866249              -122.299371   \n",
       "4                      67               37.776639              -122.395526   \n",
       "...                   ...                     ...                      ...   \n",
       "3023987               133               37.755213              -122.420975   \n",
       "3023988                78               37.773717              -122.411647   \n",
       "3023989               243               37.869360              -122.254337   \n",
       "3023990               370               37.787327              -122.413278   \n",
       "3023991                14               37.795001              -122.399970   \n",
       "\n",
       "                      start_time  low_income_trip  subscriber  gender  \\\n",
       "0        2017-12-31 16:57:39.654                0           0       1   \n",
       "1        2017-12-31 15:56:34.842                0           0       0   \n",
       "2        2017-12-31 14:23:14.001                0           1       0   \n",
       "3        2017-12-31 23:49:28.422                0           0       0   \n",
       "4        2017-12-31 23:52:55.581                0           1       1   \n",
       "...                          ...              ...         ...     ...   \n",
       "3023987  2019-04-01 00:09:17.566                0           1       1   \n",
       "3023988  2019-04-01 00:03:02.573                1           1       1   \n",
       "3023989  2019-04-01 00:06:04.237                1           1       1   \n",
       "3023990  2019-04-01 00:01:38.411                1           1       0   \n",
       "3023991  2019-04-01 00:00:28.729                0           1       1   \n",
       "\n",
       "         duration_min  user_age  year  month  week  day  weekday  hour  \n",
       "0              1335.2        31  2017     12    52   31        6    16  \n",
       "1              1313.3        53  2017     12    52   31        6    15  \n",
       "2               726.7        21  2017     12    52   31        6    14  \n",
       "3                75.1        27  2017     12    52   31        6    23  \n",
       "4                36.4        28  2017     12    52   31        6    23  \n",
       "...               ...       ...   ...    ...   ...  ...      ...   ...  \n",
       "3023987           3.1        43  2019      4    14    1        0     0  \n",
       "3023988           9.0        38  2019      4    14    1        0     0  \n",
       "3023989           4.9        22  2019      4    14    1        0     0  \n",
       "3023990           7.8        23  2019      4    14    1        0     0  \n",
       "3023991           5.9        49  2019      4    14    1        0     0  \n",
       "\n",
       "[3023992 rows x 19 columns]"
      ]
     },
     "execution_count": 7,
     "metadata": {},
     "output_type": "execute_result"
    }
   ],
   "source": [
    "df"
   ]
  },
  {
   "cell_type": "markdown",
   "metadata": {},
   "source": [
    "### Tasks \n",
    "\n",
    "#### stations_df\n",
    "* stationID datatype is float when it should be int. \n",
    "\n",
    "#### Gobike Ford data\n",
    "* Join station data on start_station_id and end_station_id"
   ]
  },
  {
   "cell_type": "markdown",
   "metadata": {},
   "source": [
    "**Define:**\n",
    "```stations_df```: *stationID datatype is float when it should be int*\n",
    "\n",
    "**Code:**\n"
   ]
  },
  {
   "cell_type": "code",
   "execution_count": 8,
   "metadata": {},
   "outputs": [],
   "source": [
    "stations_df['stationId'] = stations_df['stationId'].astype(int)"
   ]
  },
  {
   "cell_type": "markdown",
   "metadata": {},
   "source": [
    "**Test:**"
   ]
  },
  {
   "cell_type": "code",
   "execution_count": 9,
   "metadata": {},
   "outputs": [
    {
     "data": {
      "text/plain": [
       "stationName    object\n",
       "stationId       int64\n",
       "dtype: object"
      ]
     },
     "execution_count": 9,
     "metadata": {},
     "output_type": "execute_result"
    }
   ],
   "source": [
    "stations_df.dtypes"
   ]
  },
  {
   "cell_type": "code",
   "execution_count": 10,
   "metadata": {},
   "outputs": [
    {
     "data": {
      "text/plain": [
       "167376"
      ]
     },
     "execution_count": 10,
     "metadata": {},
     "output_type": "execute_result"
    }
   ],
   "source": [
    "df[df['month']== 5].shape[0]"
   ]
  },
  {
   "cell_type": "code",
   "execution_count": null,
   "metadata": {},
   "outputs": [],
   "source": []
  },
  {
   "cell_type": "markdown",
   "metadata": {},
   "source": [
    "## Univariate exploration of data\n",
    "### 1. What are the months during which bikes are rented the most? "
   ]
  },
  {
   "cell_type": "code",
   "execution_count": 11,
   "metadata": {},
   "outputs": [
    {
     "name": "stdout",
     "output_type": "stream",
     "text": [
      "1\n",
      "2\n",
      "3\n",
      "4\n",
      "5\n",
      "6\n",
      "7\n",
      "8\n",
      "9\n",
      "10\n",
      "11\n",
      "12\n"
     ]
    },
    {
     "data": {
      "text/plain": [
       "array([269085, 273578, 346702, 349639, 167376, 183792, 219604, 248158,\n",
       "       260205, 286801, 214654, 204398])"
      ]
     },
     "execution_count": 11,
     "metadata": {},
     "output_type": "execute_result"
    }
   ],
   "source": [
    "rentals_pm = []\n",
    "for month in range(1,13):\n",
    "    print(month)\n",
    "    rentals = df[df['month'] == month].shape[0]\n",
    "    rentals_pm.append(rentals)\n",
    "rentals_pm = np.array(rentals_pm)\n",
    "rentals_pm   "
   ]
  },
  {
   "cell_type": "code",
   "execution_count": 12,
   "metadata": {},
   "outputs": [
    {
     "data": {
      "image/png": "[encoded data removed]",
      "text/plain": [
       "<Figure size 576x360 with 1 Axes>"
      ]
     },
     "metadata": {
      "needs_background": "light"
     },
     "output_type": "display_data"
    }
   ],
   "source": [
    "months = ['jan', 'feb', 'mar', 'apr', 'may', 'jun', 'jul', 'aug', 'sep', 'oct', 'nov', 'dec']\n",
    "plt.figure(figsize = [8,5])\n",
    "plt.bar(months, height = rentals_pm)\n",
    "plt.title('number of Ford Gobike trips per month (2017-19)');\n",
    "plt.xlabel('month');\n",
    "plt.ylabel('number of trips');"
   ]
  },
  {
   "cell_type": "markdown",
   "metadata": {},
   "source": [
    "We see that the months in wich the most bike trips are made are march and april, and those with the least bike trips are may and june. "
   ]
  },
  {
   "cell_type": "markdown",
   "metadata": {},
   "source": [
    "### 2. What are the days of the week during which bikes are rented the most? "
   ]
  },
  {
   "cell_type": "code",
   "execution_count": 13,
   "metadata": {},
   "outputs": [
    {
     "data": {
      "image/png": "[encoded data removed]",
      "text/plain": [
       "<Figure size 576x360 with 1 Axes>"
      ]
     },
     "metadata": {
      "needs_background": "light"
     },
     "output_type": "display_data"
    }
   ],
   "source": [
    "weekdays = ['mon', 'tue', 'wed', 'thur', 'fri', 'sat', 'sun']\n",
    "rentals_pwd =np.array(df['weekday'].value_counts().sort_index())\n",
    "plt.figure(figsize = [8,5]);\n",
    "plt.bar(weekdays, height = rentals_pwd);\n",
    "plt.title('Number of bike trips per weekday (2017-19)');\n",
    "plt.xlabel('weekday')\n",
    "plt.ylabel('number of trips');"
   ]
  },
  {
   "cell_type": "markdown",
   "metadata": {},
   "source": [
    "The days on which the most bike trips were made are tuesday, wednesday and thursday. This could mean that people are mainly using the Ford GoBike system to go to work, as there is a big difference between the number of bikes rented on business days versus on week ends (further investigation later). "
   ]
  },
  {
   "cell_type": "markdown",
   "metadata": {},
   "source": [
    "### 3. What is the distribution of Gobike user age"
   ]
  },
  {
   "cell_type": "code",
   "execution_count": 14,
   "metadata": {},
   "outputs": [
    {
     "data": {
      "text/plain": [
       "<bound method IndexOpsMixin.value_counts of 0          31\n",
       "1          53\n",
       "2          21\n",
       "3          27\n",
       "4          28\n",
       "           ..\n",
       "3023987    43\n",
       "3023988    38\n",
       "3023989    22\n",
       "3023990    23\n",
       "3023991    49\n",
       "Name: user_age, Length: 3023992, dtype: int64>"
      ]
     },
     "execution_count": 14,
     "metadata": {},
     "output_type": "execute_result"
    }
   ],
   "source": [
    "df['user_age'].value_counts"
   ]
  },
  {
   "cell_type": "code",
   "execution_count": 15,
   "metadata": {},
   "outputs": [
    {
     "data": {
      "image/png": "[encoded data removed]",
      "text/plain": [
       "<Figure size 576x360 with 1 Axes>"
      ]
     },
     "metadata": {
      "needs_background": "light"
     },
     "output_type": "display_data"
    }
   ],
   "source": [
    "binsize = 5\n",
    "bins = np.arange(0, 120, binsize);\n",
    "plt.figure(figsize= [8,5]);\n",
    "plt.hist(df['user_age'], bins = bins);"
   ]
  },
  {
   "cell_type": "markdown",
   "metadata": {},
   "source": [
    "We can see that the distribution is skewed to the right, with a majority of bike users being aged 20-40. "
   ]
  },
  {
   "cell_type": "code",
   "execution_count": 16,
   "metadata": {},
   "outputs": [
    {
     "data": {
      "text/plain": [
       "35.004155434273635"
      ]
     },
     "execution_count": 16,
     "metadata": {},
     "output_type": "execute_result"
    }
   ],
   "source": [
    "df['user_age'].mean()"
   ]
  },
  {
   "cell_type": "markdown",
   "metadata": {},
   "source": [
    "The averge user is 35 years old. "
   ]
  },
  {
   "cell_type": "markdown",
   "metadata": {},
   "source": [
    "### 4. What is the bike trip duration distribution like? "
   ]
  },
  {
   "cell_type": "code",
   "execution_count": 17,
   "metadata": {},
   "outputs": [
    {
     "data": {
      "text/plain": [
       "Text(0, 0.5, 'number of trips')"
      ]
     },
     "execution_count": 17,
     "metadata": {},
     "output_type": "execute_result"
    },
    {
     "data": {
      "image/png": "[encoded data removed]",
      "text/plain": [
       "<Figure size 576x360 with 1 Axes>"
      ]
     },
     "metadata": {
      "needs_background": "light"
     },
     "output_type": "display_data"
    }
   ],
   "source": [
    "binsize = 5\n",
    "bins = np.arange(0, df['duration_min'].max()+binsize, binsize)\n",
    "plt.figure(figsize = [8,5])\n",
    "plt.hist(df['duration_min'], bins = bins);\n",
    "plt.title('Trip duration distribution (2017-19)');\n",
    "plt.xlabel('duration (min)');\n",
    "plt.ylabel('number of trips')"
   ]
  },
  {
   "cell_type": "markdown",
   "metadata": {},
   "source": [
    "In this situation, we see that our data is heavily skewed. To get a better view, we could apply a **log transformation** to our data set of the type: \n",
    "> $(\\Delta t_1, \\Delta t_2, ... \\Delta t_n) \\to \\log_c(\\Delta t_1, \\Delta t_2, ... \\Delta t_n) $ Where $t_i$ is the observed duration of the ith trip.\n"
   ]
  },
  {
   "cell_type": "code",
   "execution_count": 18,
   "metadata": {},
   "outputs": [
    {
     "data": {
      "image/png": "[encoded data removed]",
      "text/plain": [
       "<Figure size 720x504 with 1 Axes>"
      ]
     },
     "metadata": {
      "needs_background": "light"
     },
     "output_type": "display_data"
    }
   ],
   "source": [
    "# Transform our bins\n",
    "log_binsize = 0.02\n",
    "log_bins = 10**np.arange(0, np.log10(df['duration_min'].max())+log_binsize, log_binsize)\n",
    "plt.figure(figsize= [10,7]);\n",
    "plt.hist(df['duration_min'], bins = log_bins)\n",
    "plt.xscale('log')\n",
    "plt.title('distriubtion of trip durations (2017-19 ) (log)');\n",
    "plt.xlabel('duration (min)');\n",
    "plt.ylabel('number of trips');"
   ]
  },
  {
   "cell_type": "markdown",
   "metadata": {},
   "source": [
    "Now it is easier to visualise our data since it is more symmetric. We can see that most trip durations last between 2-30 min. "
   ]
  },
  {
   "cell_type": "markdown",
   "metadata": {},
   "source": [
    "## Bivariate exploration \n",
    "### 1. Do subscribers take longer trips than non subscribers on average?"
   ]
  },
  {
   "cell_type": "code",
   "execution_count": 19,
   "metadata": {},
   "outputs": [
    {
     "data": {
      "image/png": "[encoded data removed]",
      "text/plain": [
       "<Figure size 720x504 with 1 Axes>"
      ]
     },
     "metadata": {
      "needs_background": "light"
     },
     "output_type": "display_data"
    }
   ],
   "source": [
    "plt.figure(figsize =[10,7])\n",
    "sns.boxplot(x= df['subscriber'], y = df['duration_min']);\n",
    "plt.ylim([0,100])\n",
    "plt.ylabel('trip duration (min)');\n",
    "plt.xlabel('user type');\n",
    "plt.title('trip duration based on user type');"
   ]
  },
  {
   "cell_type": "markdown",
   "metadata": {},
   "source": [
    "It seems like overall, non subscribers perform longer bike trips than subscribers. "
   ]
  },
  {
   "cell_type": "markdown",
   "metadata": {},
   "source": [
    "### 2. Do younger users make longer trips than older users on average? "
   ]
  },
  {
   "cell_type": "markdown",
   "metadata": {},
   "source": [
    "Since our dataset is huge and certain computation times may be too long, it could be useful to take a random sample from our dataset. "
   ]
  },
  {
   "cell_type": "code",
   "execution_count": 20,
   "metadata": {},
   "outputs": [],
   "source": [
    "sample = df[['user_age', 'duration_min']].sample(20000)"
   ]
  },
  {
   "cell_type": "code",
   "execution_count": 21,
   "metadata": {},
   "outputs": [
    {
     "data": {
      "image/png": "[encoded data removed]",
      "text/plain": [
       "<Figure size 576x360 with 1 Axes>"
      ]
     },
     "metadata": {
      "needs_background": "light"
     },
     "output_type": "display_data"
    }
   ],
   "source": [
    "plt.figure(figsize = [8,5]);\n",
    "plt.scatter(x = sample['user_age'], y= sample['duration_min'], alpha =0.5)\n",
    "plt.title('Trip duration vs age');\n",
    "plt.xlabel('user age (yrs)');\n",
    "plt.ylabel('trip duration (min)');"
   ]
  },
  {
   "cell_type": "markdown",
   "metadata": {},
   "source": [
    "Even with the alpha lowered, there are still too many points between 0-100min . Let's focus on the data in this range and plot a heatmap to get a better overiew. "
   ]
  },
  {
   "cell_type": "code",
   "execution_count": 22,
   "metadata": {},
   "outputs": [
    {
     "data": {
      "image/png": "[encoded data removed]",
      "text/plain": [
       "<Figure size 720x504 with 2 Axes>"
      ]
     },
     "metadata": {
      "needs_background": "light"
     },
     "output_type": "display_data"
    }
   ],
   "source": [
    "plt.figure(figsize =[10,7])\n",
    "xbin = np.arange(0, 100, 5);\n",
    "ybin = np.arange(0, 100, 5 );\n",
    "plt.hist2d(sample['user_age'], sample['duration_min'],  bins = (xbin, ybin), alpha = 0.75);\n",
    "plt.xlabel('user age (years)');\n",
    "plt.ylabel('trip duration (min)');\n",
    "plt.title('Heatmap of trip duration vs user age')\n",
    "plt.colorbar();"
   ]
  },
  {
   "cell_type": "markdown",
   "metadata": {},
   "source": [
    "It is now clearer that most trips are performed by users aged around 20-40 and last between 5-20 min "
   ]
  },
  {
   "cell_type": "markdown",
   "metadata": {},
   "source": [
    "### 3. Do we have evidence to support the claim that Ford GoBikes are used mostly for work commute? "
   ]
  },
  {
   "cell_type": "code",
   "execution_count": 23,
   "metadata": {},
   "outputs": [
    {
     "data": {
      "image/png": "[encoded data removed]",
      "text/plain": [
       "<Figure size 720x504 with 2 Axes>"
      ]
     },
     "metadata": {
      "needs_background": "light"
     },
     "output_type": "display_data"
    }
   ],
   "source": [
    "plt.figure(figsize = [10,7]);\n",
    "plt.title('Heatmap of day of the week and trip start time');\n",
    "plt.hist2d(df['hour'], df['weekday'], cmap = 'BuGn');\n",
    "plt.ylabel('day of the week');\n",
    "plt.xlabel('hour of the day');\n",
    "plt.colorbar();\n"
   ]
  },
  {
   "cell_type": "markdown",
   "metadata": {},
   "source": [
    "This heatmap does seem to indicate that Ford Gobikes are mainly used for travelling to work. We can see a large concentration of trips made on Mondays, Tuesdays, Wednesdays, Thursdays and Fridays between 8-10AM and 5-7PM which are the start and end of usual work hours. "
   ]
  },
  {
   "cell_type": "markdown",
   "metadata": {},
   "source": [
    "## Multivariate Exploration\n",
    "\n",
    "### 1. Is there a correlation between average trip speed , user age and gender? "
   ]
  },
  {
   "cell_type": "markdown",
   "metadata": {},
   "source": [
    "The trip speed is given by: $$s = \\frac { d}{ \\Delta t} $$ \n",
    "\n",
    "\n",
    "**Computing the distance using spherical polar coordinates** \n",
    "\n",
    "So we are given the inital and final latitude and longitude $(\\theta_i, \\phi_i) \\to (\\theta_f, \\phi_f)$ if we assume that our rider stays at the same distance from earth's centre $R$. \n",
    "\n",
    "Using this information (though the math is complicated) we can derive the Haversine formula which gives us the distance $d$ between 2 points on a perfect sphere: \n",
    "$$d =2R \\arcsin \\left( \\sqrt{\\sin^2 \\left(\\frac {\\theta_f - \\theta i}2 \\right ) + \\cos(\\theta_i) \\cos(\\theta_f)  \\sin^2 \\left( \\frac {\\phi_f - \\phi_i}2 \\right) }  \\right )$$"
   ]
  },
  {
   "cell_type": "code",
   "execution_count": 24,
   "metadata": {},
   "outputs": [],
   "source": [
    "\n",
    "def great_circle_distance(theta_i, theta_f, phi_i, phi_f, R):\n",
    "    ''' This function takes as input the start and end latitude, the start and end longitude \n",
    "    and the radius of the earth and returns the great circle distance in m. We assume that the \n",
    "    angles are in radians. So we will need to convert them before calling the function. '''\n",
    "    \n",
    "    dlat = theta_f - theta_i\n",
    "    dlong = phi_f - phi_i \n",
    "    arg = np.sin(dlat/2)**2 + np.cos(theta_i)*np.cos(theta_f)*np.sin(dlong/2)**2\n",
    "    d = 2*R*np.arcsin(np.sqrt(arg))\n",
    "    return d \n",
    "    \n",
    "\n",
    "# latitudes \n",
    "theta_i = np.radians(np.array(df['start_station_latitude']))\n",
    "theta_f = np.radians(np.array(df['end_station_latitude']))\n",
    "\n",
    "#longitudes \n",
    "phi_i = np.radians(np.array(df['start_station_longitude']))\n",
    "phi_f = np.radians(np.array(df['end_station_longitude']))\n",
    "\n",
    "#earth radius\n",
    "R = 6.371e6 "
   ]
  },
  {
   "cell_type": "code",
   "execution_count": 25,
   "metadata": {},
   "outputs": [
    {
     "data": {
      "text/plain": [
       "array([ 942.9311486 , 3069.72709969,  636.33938353, ...,  875.43905521,\n",
       "        979.82433392, 1473.55870857])"
      ]
     },
     "execution_count": 25,
     "metadata": {},
     "output_type": "execute_result"
    }
   ],
   "source": [
    "dist = great_circle_distance(theta_i, theta_f, phi_i, phi_f, R)\n",
    "dist"
   ]
  },
  {
   "cell_type": "code",
   "execution_count": 26,
   "metadata": {},
   "outputs": [],
   "source": [
    "# Convert min to seconds \n",
    "t = df['duration_min']* 60 "
   ]
  },
  {
   "cell_type": "code",
   "execution_count": 27,
   "metadata": {},
   "outputs": [],
   "source": [
    "#Create array containing velocity for each trip\n",
    "speed = dist/t"
   ]
  },
  {
   "cell_type": "code",
   "execution_count": 28,
   "metadata": {},
   "outputs": [
    {
     "data": {
      "text/plain": [
       "2.88207810716911"
      ]
     },
     "execution_count": 28,
     "metadata": {},
     "output_type": "execute_result"
    }
   ],
   "source": [
    "#Check the mean\n",
    "speed.mean()"
   ]
  },
  {
   "cell_type": "code",
   "execution_count": 29,
   "metadata": {},
   "outputs": [
    {
     "data": {
      "text/plain": [
       "73524.30261323835"
      ]
     },
     "execution_count": 29,
     "metadata": {},
     "output_type": "execute_result"
    }
   ],
   "source": [
    "speed.max()"
   ]
  },
  {
   "cell_type": "markdown",
   "metadata": {},
   "source": [
    "The average bike speed is around $2$m/s. Our results is slightly. This could be for two reasons:\n",
    "\n",
    "* The mean is being 'pulled' by extreme values such as the max speed which is unrealistic. \n",
    "* The people who used Ford GoBikes are adept bikers and ride at above average speeds. "
   ]
  },
  {
   "cell_type": "code",
   "execution_count": 30,
   "metadata": {},
   "outputs": [],
   "source": [
    "df['speed'] =speed"
   ]
  },
  {
   "cell_type": "code",
   "execution_count": 40,
   "metadata": {},
   "outputs": [],
   "source": [
    "sample = df.sample(500)\n",
    "df['age_discrete'] = pd.cut(df['user_age'], np.arange(0,100,10))"
   ]
  },
  {
   "cell_type": "code",
   "execution_count": 41,
   "metadata": {},
   "outputs": [
    {
     "data": {
      "text/plain": [
       "<matplotlib.axes._subplots.AxesSubplot at 0x7f8355922a50>"
      ]
     },
     "execution_count": 41,
     "metadata": {},
     "output_type": "execute_result"
    },
    {
     "data": {
      "image/png": "[encoded data removed]",
      "text/plain": [
       "<Figure size 720x504 with 1 Axes>"
      ]
     },
     "metadata": {
      "needs_background": "light"
     },
     "output_type": "display_data"
    }
   ],
   "source": [
    "plt.figure(figsize= [10,7]);\n",
    "sns.barplot(x = 'age_discrete', y='speed', hue = 'gender' ,data = sample)"
   ]
  },
  {
   "cell_type": "markdown",
   "metadata": {},
   "source": [
    "We previously noted that most bike rides are performed during weekdays most likely for work commute. "
   ]
  },
  {
   "cell_type": "code",
   "execution_count": null,
   "metadata": {},
   "outputs": [],
   "source": []
  }
 ],
 "metadata": {
  "kernelspec": {
   "display_name": "Python 3",
   "language": "python",
   "name": "python3"
  },
  "language_info": {
   "codemirror_mode": {
    "name": "ipython",
    "version": 3
   },
   "file_extension": ".py",
   "mimetype": "text/x-python",
   "name": "python",
   "nbconvert_exporter": "python",
   "pygments_lexer": "ipython3",
   "version": "3.7.7"
  }
 },
 "nbformat": 4,
 "nbformat_minor": 4
}
